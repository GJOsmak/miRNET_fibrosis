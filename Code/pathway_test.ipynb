{
 "cells": [
  {
   "cell_type": "code",
   "execution_count": 1,
   "metadata": {},
   "outputs": [],
   "source": [
    "import pandas as pd\n",
    "import numpy as np\n",
    "import scipy as sp\n",
    "import miRNET, miRNET_enrichment\n",
    "#Targets = miRNET.Targets(path_to_miRTarBase='./baseData/hsa_miRTarBase.csv')\n",
    "import warnings\n",
    "import collections\n",
    "from matplotlib import pyplot as plt\n",
    "import random\n",
    "from scipy.stats import chi2_contingency\n",
    "import json\n",
    "import networkx as nx"
   ]
  },
  {
   "cell_type": "code",
   "execution_count": 2,
   "metadata": {},
   "outputs": [],
   "source": [
    "with open('./addData/miR_key_dict.json') as json_file:\n",
    "    miR_key_dict = json.load(json_file)\n",
    "\n",
    "with open('./addData/miR_path_dict.json') as json_file:\n",
    "    dict_miR_to_paths = json.load(json_file)"
   ]
  },
  {
   "cell_type": "code",
   "execution_count": 3,
   "metadata": {},
   "outputs": [],
   "source": [
    "dict_for_mc = dict()\n",
    "for miR in miR_key_dict.keys():\n",
    "    if 1351 > miR_key_dict[miR]['targets'] > 51:\n",
    "        if miR_key_dict[miR]['LCC'] > 5:\n",
    "            if len(miR_key_dict[miR]['key_genes']) > 5:\n",
    "                dict_for_mc[miR] = miR_key_dict[miR]"
   ]
  },
  {
   "cell_type": "code",
   "execution_count": 4,
   "metadata": {},
   "outputs": [],
   "source": [
    "def get_p_value(check_target, miR_to_target_d, n_miRNA, true_n):\n",
    "    \"\"\"\n",
    "    check_target - list() of target nodes to test\n",
    "    miR_to_target_d - dict(): {miRNA:[targets]}\n",
    "    n_miRNA - number of investigated miRNAs\n",
    "    true_n - number of miRNAs connected with a set of target nodes (check_target)\n",
    "    \"\"\"\n",
    "    \n",
    "    res = 0\n",
    "    for miR, target in miR_to_target_d.items():\n",
    "        for i in check_target:\n",
    "            if i in target:\n",
    "                res += 1\n",
    "                break\n",
    "\n",
    "    p = res/len(miR_to_target_d)\n",
    "    return 1-sp.stats.binom.cdf(true_n, n_miRNA, p)"
   ]
  },
  {
   "cell_type": "code",
   "execution_count": 5,
   "metadata": {},
   "outputs": [
    {
     "name": "stdout",
     "output_type": "stream",
     "text": [
      "TGF_b_module\t4.7041910579026514e-05\n",
      "blue_module\t0.6289203812088862\n",
      "purple_module\t0.02583850296171497\n"
     ]
    }
   ],
   "source": [
    "TGF_b_ids = ['R-HSA-2173793']\n",
    "blue_ids = ['R-HSA-2559583']\n",
    "purple_ids = ['R-HSA-141424']\n",
    "\n",
    "check_list = [\n",
    "    ('TGF_b_module', 10, TGF_b_ids), \n",
    "    ('blue_module', 2, blue_ids), \n",
    "    ('purple_module', 2, purple_ids)\n",
    "]\n",
    "\n",
    "for i in check_list:\n",
    "    print(i[0], get_p_value(i[2], dict_miR_to_paths, 12, i[1]), sep='\\t')"
   ]
  },
  {
   "cell_type": "code",
   "execution_count": 7,
   "metadata": {},
   "outputs": [
    {
     "name": "stdout",
     "output_type": "stream",
     "text": [
      "p-value.adj = 0.11\n"
     ]
    }
   ],
   "source": [
    "print('p-value.adj =', round(3*(0.9090277581372839*0.3530676611783915*0.1130363261239391),2))"
   ]
  },
  {
   "cell_type": "code",
   "execution_count": 7,
   "metadata": {},
   "outputs": [
    {
     "data": {
      "text/plain": [
       "9.408"
      ]
     },
     "execution_count": 7,
     "metadata": {},
     "output_type": "execute_result"
    }
   ],
   "source": [
    "4.704*2"
   ]
  },
  {
   "cell_type": "code",
   "execution_count": null,
   "metadata": {},
   "outputs": [],
   "source": []
  }
 ],
 "metadata": {
  "kernelspec": {
   "display_name": "Python 3",
   "language": "python",
   "name": "python3"
  },
  "language_info": {
   "codemirror_mode": {
    "name": "ipython",
    "version": 3
   },
   "file_extension": ".py",
   "mimetype": "text/x-python",
   "name": "python",
   "nbconvert_exporter": "python",
   "pygments_lexer": "ipython3",
   "version": "3.7.6"
  }
 },
 "nbformat": 4,
 "nbformat_minor": 4
}
