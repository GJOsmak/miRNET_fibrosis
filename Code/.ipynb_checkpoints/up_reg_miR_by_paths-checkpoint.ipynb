{
 "cells": [
  {
   "cell_type": "code",
   "execution_count": 1,
   "metadata": {},
   "outputs": [],
   "source": [
    "import pandas as pd\n",
    "import numpy as np\n",
    "import scipy as sp\n",
    "import miRNET, miRNET_enrichment\n",
    "Targets = miRNET.Targets(path_to_miRTarBase='./baseData/hsa_miRTarBase.csv')\n",
    "import warnings\n",
    "import collections\n",
    "from matplotlib import pyplot as plt\n",
    "import random\n",
    "from scipy.stats import chi2_contingency\n",
    "import json\n",
    "import networkx as nx\n",
    "from requests.exceptions import ConnectionError\n",
    "import requests\n",
    "import requests\n",
    "import io\n",
    "\n",
    "def reactome_to_pandas(ReactomeRes):\n",
    "\n",
    "    url = 'https://reactome.org/AnalysisService/download/' + ReactomeRes.token + \\\n",
    "          '/pathways/TOTAL/result.csv'\n",
    "    res = requests.get(url).content\n",
    "    reactome_df = pd.read_csv(io.StringIO(res.decode('utf-8')))\n",
    "\n",
    "    return reactome_df"
   ]
  },
  {
   "cell_type": "code",
   "execution_count": null,
   "metadata": {},
   "outputs": [],
   "source": [
    "####################\n",
    "#up-regulated mIRNA#\n",
    "####################"
   ]
  },
  {
   "cell_type": "code",
   "execution_count": 3,
   "metadata": {},
   "outputs": [],
   "source": [
    "with open('../Data/miRNAs_key_genes/up_miRNAs_key_genes_dict.json') as json_file:\n",
    "    up_dict = json.load(json_file)"
   ]
  },
  {
   "cell_type": "code",
   "execution_count": 4,
   "metadata": {},
   "outputs": [],
   "source": [
    "def grep_target_gene_by_paths(miR_names, miR_dict, Reactome_ID):\n",
    "    target_gene = list()\n",
    "    pathway_genes = set()\n",
    "    for miR in miR_names:\n",
    "        print(miR)\n",
    "        target_gene = miR_dict[miR]\n",
    "        enrich_res = miRNET_enrichment.reactome_enrichment(up_dict[miR], species='Homo sapiens')\n",
    "        enrich_res = miRNET_enrichment.reac_pars(enrich_res)\n",
    "        reactome_df = reactome_to_pandas(enrich_res)\n",
    "    \n",
    "        for ids in Reactome_ID:\n",
    "            mask = reactome_df.iloc[:,0] == ids\n",
    "            if sum(mask) == 0:\n",
    "                continue\n",
    "            pg = reactome_df.loc[mask,].iloc[0,12]\n",
    "            pathway_genes.update(pg.split(';'))\n",
    "            \n",
    "    miR_target_pathway_dict = dict((key,[]) for key in miR_names)\n",
    "    for miR in miR_names:\n",
    "        miR_target_pathway_dict[miR] = set(miR_dict[miR]).intersection(pathway_genes)\n",
    "    \n",
    "    return miR_target_pathway_dict"
   ]
  },
  {
   "cell_type": "code",
   "execution_count": 6,
   "metadata": {},
   "outputs": [
    {
     "name": "stdout",
     "output_type": "stream",
     "text": [
      "miR-25-3p\n",
      "miR-24-3p\n",
      "miR-30a-5p\n",
      "miR-150-5p\n",
      "let-7d-5p\n",
      "miR-21-5p\n",
      "miR-29b-3p\n",
      "miR-203a-3p\n",
      "miR-155-5p\n",
      "miR-130a-3p\n"
     ]
    }
   ],
   "source": [
    "TGF_b_miRs = ['miR-25-3p', 'miR-24-3p', 'miR-30a-5p', 'miR-150-5p', 'let-7d-5p', 'miR-21-5p', 'miR-29b-3p', 'miR-203a-3p', 'miR-155-5p', 'miR-130a-3p']\n",
    "\n",
    "TGF_b_ids = ['R-HSA-2173793']\n",
    "\n",
    "TGFb_miR_genes = grep_target_gene_by_paths(TGF_b_miRs, up_dict, TGF_b_ids)"
   ]
  },
  {
   "cell_type": "code",
   "execution_count": 7,
   "metadata": {},
   "outputs": [],
   "source": [
    "def dict_to_edge_table(dct):\n",
    "    res_df = pd.DataFrame(columns=['miR', 'target'])\n",
    "    for key in dct.keys():\n",
    "        for elm in dct[key]:\n",
    "            res_df = pd.concat([res_df, pd.DataFrame(list(zip([key], [elm])), columns=['miR', 'target'])])\n",
    "    return res_df"
   ]
  },
  {
   "cell_type": "code",
   "execution_count": 10,
   "metadata": {},
   "outputs": [],
   "source": [
    "dict_to_edge_table(TGFb_miR_genes).to_csv('../Data/edge_SMAD_miR_genes.csv',index=False, index_label=False, sep=',')"
   ]
  },
  {
   "cell_type": "code",
   "execution_count": null,
   "metadata": {},
   "outputs": [],
   "source": []
  }
 ],
 "metadata": {
  "kernelspec": {
   "display_name": "Python 3",
   "language": "python",
   "name": "python3"
  },
  "language_info": {
   "codemirror_mode": {
    "name": "ipython",
    "version": 3
   },
   "file_extension": ".py",
   "mimetype": "text/x-python",
   "name": "python",
   "nbconvert_exporter": "python",
   "pygments_lexer": "ipython3",
   "version": "3.7.6"
  }
 },
 "nbformat": 4,
 "nbformat_minor": 4
}
