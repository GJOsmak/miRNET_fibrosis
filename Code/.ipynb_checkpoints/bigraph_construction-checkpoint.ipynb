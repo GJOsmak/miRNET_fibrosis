{
 "cells": [
  {
   "cell_type": "code",
   "execution_count": 9,
   "metadata": {},
   "outputs": [],
   "source": [
    "import pandas as pd\n",
    "import numpy as np\n",
    "import scipy as sp\n",
    "import miRNET, miRNET_enrichment\n",
    "Targets = miRNET.Targets(path_to_miRTarBase='./baseData/hsa_miRTarBase_old.csv')\n",
    "import warnings\n",
    "import collections\n",
    "from matplotlib import pyplot as plt\n",
    "import random\n",
    "from scipy.stats import chi2_contingency\n",
    "import json\n",
    "import networkx as nx"
   ]
  },
  {
   "cell_type": "code",
   "execution_count": 31,
   "metadata": {},
   "outputs": [],
   "source": [
    "miRnames_up = ['miR-25-3p', 'miR-891a-3p', 'miR-145-3p', 'miR-325', 'miR-223-3p', 'miR-155-5p', \n",
    "               'miR-130a-3p', 'miR-150-5p', 'miR-214-3p', 'let-7d-5p', 'miR-203a-3p', 'miR-24-3p', \n",
    "               'miR-29b-3p', 'miR-30a-5p', 'miR-21-5p']"
   ]
  },
  {
   "cell_type": "code",
   "execution_count": 32,
   "metadata": {},
   "outputs": [
    {
     "name": "stdout",
     "output_type": "stream",
     "text": [
      "hsa-miR-25-3p\n",
      "hsa-miR-891a-3p\n",
      "hsa-miR-145-3p\n",
      "hsa-miR-325\n",
      "hsa-miR-223-3p\n",
      "hsa-miR-155-5p\n",
      "hsa-miR-130a-3p\n",
      "hsa-miR-150-5p\n",
      "hsa-miR-214-3p\n",
      "hsa-let-7d-5p\n",
      "hsa-miR-203a-3p\n",
      "hsa-miR-24-3p\n",
      "hsa-miR-29b-3p\n",
      "hsa-miR-30a-5p\n",
      "hsa-miR-21-5p\n"
     ]
    }
   ],
   "source": [
    "for i in miRnames_up:\n",
    "    print('hsa-' + i)"
   ]
  },
  {
   "cell_type": "code",
   "execution_count": null,
   "metadata": {},
   "outputs": [],
   "source": []
  },
  {
   "cell_type": "code",
   "execution_count": 33,
   "metadata": {},
   "outputs": [
    {
     "data": {
      "text/plain": [
       "15"
      ]
     },
     "execution_count": 33,
     "metadata": {},
     "output_type": "execute_result"
    }
   ],
   "source": [
    "len(miRnames_up)"
   ]
  },
  {
   "cell_type": "code",
   "execution_count": 34,
   "metadata": {},
   "outputs": [],
   "source": [
    "def mir_list_to_target_list(miR_names):\n",
    "    colnames = ['miR', 'n_targets', 'n_heart_targets', 'n_LCC', 'n_key_genes']\n",
    "    table = pd.DataFrame(columns=colnames)\n",
    "    miR_key_nodes = dict()\n",
    "    for miR in miR_names:\n",
    "        print('miR-name:', miR, sep=' ')\n",
    "        miR_targets = Targets.get_targets(miR)\n",
    "        if miR_targets == 1:\n",
    "            warnings.warn('use another name')\n",
    "            continue\n",
    "        tis_gene_set = miRNET.tissue_selector(ans=0, tissue_id=23)\n",
    "        MirNet = miRNET.MainNet() #Load String db and create gene-gene interaction network\n",
    "        MirNet.get_LCC() #get the largest connected component from the network\n",
    "        MirNet.select_nodes(miR_targets) # select the part of LCC containing only the miRNA target genes\n",
    "        MirNet.select_nodes(tis_gene_set) # select the part of LCC containing only the tissue target genes\n",
    "        kne = miRNET.KeyNodesExtractor(MirNet) # creating an object for extracting key nodes and storing their meta information\n",
    "        key_nodes = kne.extraction()\n",
    "        \n",
    "        if key_nodes == 1:\n",
    "            warnings.warn('the key nodes do not exist')\n",
    "            continue\n",
    "        miR_key_nodes[miR] = list(key_nodes) #key nodes extraction\n",
    "        \n",
    "        print()\n",
    "        \n",
    "        nx.to_pandas_edgelist(MirNet.LCC).to_csv('../Data/miRNAs_LCC/edge_list_' + miR + '.csv', index=False, index_label=False)\n",
    "        row = [miR]\n",
    "        row.append(len(miR_targets))\n",
    "        row.append(len(tis_gene_set.intersection(miR_targets)))\n",
    "        row.append(len(MirNet.LCC.nodes()))\n",
    "        row.append(len(miR_key_nodes[miR]))\n",
    "        \n",
    "        row = pd.DataFrame(row).transpose()\n",
    "        row.columns = colnames\n",
    "\n",
    "        table = pd.concat([table, row], axis=0)\n",
    "    return [miR_key_nodes, table]"
   ]
  },
  {
   "cell_type": "code",
   "execution_count": 35,
   "metadata": {},
   "outputs": [
    {
     "name": "stdout",
     "output_type": "stream",
     "text": [
      "miR-name: miR-25-3p\n",
      "I found a miRNA with name: hsa-miR-25-3p\n",
      "and  518 unique targets\n",
      "Gene universe is...\n",
      "heart muscle was used\n",
      "your tissue is  heart muscle  number of genes:  7944\n",
      "\n",
      "miR-name: miR-891a-3p\n",
      "I found a miRNA with name: hsa-miR-891a-3p\n",
      "and  155 unique targets\n",
      "Gene universe is...\n",
      "heart muscle was used\n",
      "your tissue is  heart muscle  number of genes:  7944\n"
     ]
    },
    {
     "name": "stderr",
     "output_type": "stream",
     "text": [
      "/opt/anaconda3/lib/python3.7/site-packages/ipykernel_launcher.py:20: UserWarning: the key nodes do not exist\n"
     ]
    },
    {
     "name": "stdout",
     "output_type": "stream",
     "text": [
      "miR-name: miR-145-3p\n",
      "I found a miRNA with name: hsa-miR-145-3p\n",
      "and  60 unique targets\n",
      "Gene universe is...\n",
      "heart muscle was used\n",
      "your tissue is  heart muscle  number of genes:  7944\n",
      "miR-name: miR-325\n",
      "I found a miRNA with name: hsa-miR-325\n",
      "and  32 unique targets\n",
      "Gene universe is...\n",
      "heart muscle was used\n",
      "your tissue is  heart muscle  number of genes:  7944\n"
     ]
    },
    {
     "name": "stderr",
     "output_type": "stream",
     "text": [
      "/Users/german/Dropbox/CardioCenter/projects/2022/HCM_FS_3/Code/miRNET.py:154: UserWarning: Can't find any key genes\n",
      "  warnings.warn(\"Can't find any key genes\")\n"
     ]
    },
    {
     "name": "stdout",
     "output_type": "stream",
     "text": [
      "miR-name: miR-223-3p\n",
      "I found a miRNA with name: hsa-miR-223-3p\n",
      "and  98 unique targets\n",
      "Gene universe is...\n",
      "heart muscle was used\n",
      "your tissue is  heart muscle  number of genes:  7944\n",
      "\n",
      "miR-name: miR-155-5p\n",
      "I found a miRNA with name: hsa-miR-155-5p\n",
      "and  904 unique targets\n",
      "Gene universe is...\n",
      "heart muscle was used\n",
      "your tissue is  heart muscle  number of genes:  7944\n",
      "\n",
      "miR-name: miR-130a-3p\n",
      "I found a miRNA with name: hsa-miR-130a-3p\n",
      "and  399 unique targets\n",
      "Gene universe is...\n",
      "heart muscle was used\n",
      "your tissue is  heart muscle  number of genes:  7944\n",
      "\n",
      "miR-name: miR-150-5p\n",
      "I found a miRNA with name: hsa-miR-150-5p\n",
      "and  534 unique targets\n",
      "Gene universe is...\n",
      "heart muscle was used\n",
      "your tissue is  heart muscle  number of genes:  7944\n",
      "\n",
      "miR-name: miR-214-3p\n",
      "I found a miRNA with name: hsa-miR-214-3p\n",
      "and  206 unique targets\n",
      "Gene universe is...\n",
      "heart muscle was used\n",
      "your tissue is  heart muscle  number of genes:  7944\n",
      "\n",
      "miR-name: let-7d-5p\n",
      "I found a miRNA with name: hsa-let-7d-5p\n",
      "and  394 unique targets\n",
      "Gene universe is...\n",
      "heart muscle was used\n",
      "your tissue is  heart muscle  number of genes:  7944\n",
      "\n",
      "miR-name: miR-203a-3p\n",
      "I found a miRNA with name: hsa-miR-203a-3p\n",
      "and  308 unique targets\n",
      "Gene universe is...\n",
      "heart muscle was used\n",
      "your tissue is  heart muscle  number of genes:  7944\n",
      "\n",
      "miR-name: miR-24-3p\n",
      "I found a miRNA with name: hsa-miR-24-3p\n",
      "and  855 unique targets\n",
      "Gene universe is...\n",
      "heart muscle was used\n",
      "your tissue is  heart muscle  number of genes:  7944\n",
      "\n",
      "miR-name: miR-29b-3p\n",
      "I found a miRNA with name: hsa-miR-29b-3p\n",
      "and  261 unique targets\n",
      "Gene universe is...\n",
      "heart muscle was used\n",
      "your tissue is  heart muscle  number of genes:  7944\n",
      "\n",
      "miR-name: miR-30a-5p\n",
      "I found a miRNA with name: hsa-miR-30a-5p\n",
      "and  734 unique targets\n",
      "Gene universe is...\n",
      "heart muscle was used\n",
      "your tissue is  heart muscle  number of genes:  7944\n",
      "\n",
      "miR-name: miR-21-5p\n",
      "I found a miRNA with name: hsa-miR-21-5p\n",
      "and  612 unique targets\n",
      "Gene universe is...\n",
      "heart muscle was used\n",
      "your tissue is  heart muscle  number of genes:  7944\n",
      "\n"
     ]
    }
   ],
   "source": [
    "up_miRs = mir_list_to_target_list(miRnames_up)"
   ]
  },
  {
   "cell_type": "code",
   "execution_count": 36,
   "metadata": {},
   "outputs": [],
   "source": [
    "up_miRs[1].to_csv('../table_1_latest_v1.csv', sep=';')"
   ]
  },
  {
   "cell_type": "code",
   "execution_count": 37,
   "metadata": {},
   "outputs": [],
   "source": [
    "up_dict = up_miRs[0]"
   ]
  },
  {
   "cell_type": "code",
   "execution_count": 38,
   "metadata": {},
   "outputs": [],
   "source": [
    "with open('../Data/miRNAs_key_genes/up_miRNAs_key_genes_dict.json', 'w') as outfile:\n",
    "    json.dump(up_dict, outfile)"
   ]
  },
  {
   "cell_type": "code",
   "execution_count": 39,
   "metadata": {},
   "outputs": [],
   "source": [
    "def get_df_edges(enrich_res, miRname):\n",
    "    pathes = list(enrich_res.react_dict.keys())\n",
    "    miR_col = [miRname for i in range(len(pathes))]\n",
    "    return pd.DataFrame(list(zip(miR_col, pathes)), columns=['miR', 'path'])"
   ]
  },
  {
   "cell_type": "code",
   "execution_count": 40,
   "metadata": {},
   "outputs": [],
   "source": [
    "#list_paths = list()\n",
    "data_edges = pd.DataFrame(columns=['miR', 'path'])\n",
    "for miR in up_dict.keys():\n",
    "    enrich_res = miRNET_enrichment.reactome_enrichment(up_dict[miR], species='Homo sapiens')\n",
    "    enrich_res = miRNET_enrichment.reac_pars(enrich_res)\n",
    "#    list_paths = list_paths + list(enrich_res.react_dict.keys())\n",
    "    data_edges = pd.concat([data_edges, get_df_edges(enrich_res, miR)], axis=0)"
   ]
  },
  {
   "cell_type": "code",
   "execution_count": 41,
   "metadata": {},
   "outputs": [],
   "source": [
    "data_edges.to_csv('../Data/miRNAs_pathes_bigraphs/up_bigraph_edge.csv', index=False, index_label=False, sep=';')"
   ]
  },
  {
   "cell_type": "code",
   "execution_count": null,
   "metadata": {},
   "outputs": [],
   "source": []
  }
 ],
 "metadata": {
  "kernelspec": {
   "display_name": "Python 3",
   "language": "python",
   "name": "python3"
  },
  "language_info": {
   "codemirror_mode": {
    "name": "ipython",
    "version": 3
   },
   "file_extension": ".py",
   "mimetype": "text/x-python",
   "name": "python",
   "nbconvert_exporter": "python",
   "pygments_lexer": "ipython3",
   "version": "3.7.6"
  }
 },
 "nbformat": 4,
 "nbformat_minor": 4
}
