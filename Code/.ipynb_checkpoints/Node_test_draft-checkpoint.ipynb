{
 "cells": [
  {
   "cell_type": "code",
   "execution_count": 1,
   "metadata": {},
   "outputs": [],
   "source": [
    "import miRNET\n",
    "import json\n",
    "import numpy as np\n",
    "import matplotlib.pyplot as plt\n",
    "import seaborn as sns\n",
    "import pandas as pd\n",
    "with open('./addData/miR_key_dict.json') as json_file:\n",
    "    miR_key_dict = json.load(json_file)"
   ]
  },
  {
   "cell_type": "code",
   "execution_count": 2,
   "metadata": {},
   "outputs": [],
   "source": [
    "dict_for_mc = dict()\n",
    "for miR in miR_key_dict.keys():\n",
    "    if miR_key_dict[miR]['LCC'] > 50:\n",
    "        dict_for_mc[miR] = miR_key_dict[miR]"
   ]
  },
  {
   "cell_type": "code",
   "execution_count": 3,
   "metadata": {},
   "outputs": [
    {
     "name": "stdout",
     "output_type": "stream",
     "text": [
      "Gene universe is...\n",
      "heart muscle was used\n",
      "your tissue is  heart muscle  number of genes:  7944\n",
      "x: [0.9 0.8 0.7 0.6 0.5 0.4 0.3 0.2 0.1]\n",
      "I found a miRNA with name: hsa-miR-20a-5p\n",
      "and  1072 unique targets\n",
      "I found a miRNA with name: hsa-miR-21-5p\n",
      "and  612 unique targets\n",
      "I found a miRNA with name: hsa-miR-93-5p\n",
      "and  1220 unique targets\n",
      "I found a miRNA with name: hsa-miR-7-5p\n",
      "and  578 unique targets\n",
      "I found a miRNA with name: hsa-miR-375\n",
      "and  477 unique targets\n",
      "I found a miRNA with name: hsa-miR-34a-5p\n",
      "and  736 unique targets\n",
      "I found a miRNA with name: hsa-miR-26a-5p\n",
      "and  457 unique targets\n",
      "I found a miRNA with name: hsa-miR-24-3p\n",
      "and  855 unique targets\n",
      "I found a miRNA with name: hsa-miR-221-3p\n",
      "and  368 unique targets\n",
      "I found a miRNA with name: hsa-miR-195-5p\n",
      "and  640 unique targets\n",
      "I found a miRNA with name: hsa-miR-18a-3p\n",
      "and  350 unique targets\n",
      "I found a miRNA with name: hsa-miR-181b-5p\n",
      "and  375 unique targets\n",
      "I found a miRNA with name: hsa-miR-181a-5p\n",
      "and  553 unique targets\n",
      "I found a miRNA with name: hsa-miR-17-5p\n",
      "and  1181 unique targets\n",
      "I found a miRNA with name: hsa-miR-16-5p\n",
      "and  1557 unique targets\n",
      "I found a miRNA with name: hsa-miR-15b-5p\n",
      "and  760 unique targets\n",
      "I found a miRNA with name: hsa-miR-15a-5p\n",
      "and  717 unique targets\n",
      "I found a miRNA with name: hsa-miR-155-5p\n",
      "and  904 unique targets\n",
      "I found a miRNA with name: hsa-miR-130b-3p\n",
      "and  571 unique targets\n",
      "I found a miRNA with name: hsa-miR-128-3p\n",
      "and  528 unique targets\n",
      "I found a miRNA with name: hsa-miR-125b-5p\n",
      "and  432 unique targets\n",
      "I found a miRNA with name: hsa-miR-124-3p\n",
      "and  1447 unique targets\n",
      "I found a miRNA with name: hsa-miR-106b-5p\n",
      "and  1091 unique targets\n",
      "I found a miRNA with name: hsa-miR-106a-5p\n",
      "and  714 unique targets\n",
      "I found a miRNA with name: hsa-miR-101-3p\n",
      "and  393 unique targets\n",
      "I found a miRNA with name: hsa-miR-1-3p\n",
      "and  921 unique targets\n",
      "I found a miRNA with name: hsa-let-7c-5p\n",
      "and  516 unique targets\n",
      "I found a miRNA with name: hsa-let-7a-5p\n",
      "and  639 unique targets\n",
      "I found a miRNA with name: hsa-miR-193b-3p\n",
      "and  853 unique targets\n",
      "I found a miRNA with name: hsa-miR-20b-5p\n",
      "and  917 unique targets\n",
      "I found a miRNA with name: hsa-miR-519d-3p\n",
      "and  906 unique targets\n",
      "I found a miRNA with name: hsa-miR-125a-5p\n",
      "and  270 unique targets\n",
      "I found a miRNA with name: hsa-miR-424-5p\n",
      "and  471 unique targets\n",
      "I found a miRNA with name: hsa-miR-335-5p\n",
      "and  2627 unique targets\n",
      "I found a miRNA with name: hsa-miR-130a-3p\n",
      "and  399 unique targets\n",
      "I found a miRNA with name: hsa-miR-25-3p\n",
      "and  518 unique targets\n",
      "I found a miRNA with name: hsa-miR-218-5p\n",
      "and  816 unique targets\n",
      "I found a miRNA with name: hsa-miR-98-5p\n",
      "and  786 unique targets\n",
      "I found a miRNA with name: hsa-miR-10a-5p\n",
      "and  463 unique targets\n",
      "I found a miRNA with name: hsa-miR-19b-3p\n",
      "and  714 unique targets\n",
      "I found a miRNA with name: hsa-miR-92a-3p\n",
      "and  1407 unique targets\n",
      "I found a miRNA with name: hsa-let-7b-5p\n",
      "and  1215 unique targets\n",
      "I found a miRNA with name: hsa-miR-19a-3p\n",
      "and  571 unique targets\n",
      "I found a miRNA with name: hsa-miR-30a-5p\n",
      "and  734 unique targets\n",
      "I found a miRNA with name: hsa-miR-320a\n",
      "and  584 unique targets\n",
      "I found a miRNA with name: hsa-let-7e-5p\n",
      "and  612 unique targets\n",
      "I found a miRNA with name: hsa-miR-186-5p\n",
      "and  753 unique targets\n",
      "I found a miRNA with name: hsa-miR-26b-5p\n",
      "and  1874 unique targets\n",
      "I found a miRNA with name: hsa-miR-92b-3p\n",
      "and  709 unique targets\n",
      "I found a miRNA with name: hsa-miR-192-5p\n",
      "and  994 unique targets\n",
      "I found a miRNA with name: hsa-miR-324-3p\n",
      "and  338 unique targets\n",
      "I found a miRNA with name: hsa-miR-30c-5p\n",
      "and  521 unique targets\n",
      "I found a miRNA with name: hsa-miR-149-3p\n",
      "and  834 unique targets\n",
      "I found a miRNA with name: hsa-miR-215-5p\n",
      "and  755 unique targets\n",
      "I found a miRNA with name: hsa-miR-608\n",
      "and  195 unique targets\n",
      "I found a miRNA with name: hsa-miR-497-5p\n",
      "and  461 unique targets\n",
      "I found a miRNA with name: hsa-miR-766-3p\n",
      "and  609 unique targets\n",
      "I found a miRNA with name: hsa-miR-30b-5p\n",
      "and  416 unique targets\n",
      "I found a miRNA with name: hsa-miR-484\n",
      "and  891 unique targets\n",
      "I found a miRNA with name: hsa-miR-149-5p\n",
      "and  397 unique targets\n",
      "I found a miRNA with name: hsa-miR-615-3p\n",
      "and  893 unique targets\n"
     ]
    },
    {
     "ename": "KeyboardInterrupt",
     "evalue": "",
     "output_type": "error",
     "traceback": [
      "\u001b[0;31m---------------------------------------------------------------------------\u001b[0m",
      "\u001b[0;31mKeyboardInterrupt\u001b[0m                         Traceback (most recent call last)",
      "\u001b[0;32m<ipython-input-3-e35278091fa9>\u001b[0m in \u001b[0;36m<module>\u001b[0;34m\u001b[0m\n\u001b[1;32m     37\u001b[0m             \u001b[0;32mcontinue\u001b[0m\u001b[0;34m\u001b[0m\u001b[0;34m\u001b[0m\u001b[0m\n\u001b[1;32m     38\u001b[0m         \u001b[0mkne\u001b[0m \u001b[0;34m=\u001b[0m \u001b[0mmiRNET\u001b[0m\u001b[0;34m.\u001b[0m\u001b[0mKeyNodesExtractor\u001b[0m\u001b[0;34m(\u001b[0m\u001b[0mMirNet\u001b[0m\u001b[0;34m)\u001b[0m\u001b[0;34m\u001b[0m\u001b[0;34m\u001b[0m\u001b[0m\n\u001b[0;32m---> 39\u001b[0;31m         \u001b[0mkne_ex\u001b[0m \u001b[0;34m=\u001b[0m \u001b[0mkne\u001b[0m\u001b[0;34m.\u001b[0m\u001b[0mextraction\u001b[0m\u001b[0;34m(\u001b[0m\u001b[0;34m)\u001b[0m\u001b[0;34m\u001b[0m\u001b[0;34m\u001b[0m\u001b[0m\n\u001b[0m\u001b[1;32m     40\u001b[0m         \u001b[0;32mif\u001b[0m \u001b[0mkne_ex\u001b[0m \u001b[0;34m!=\u001b[0m \u001b[0;36m1\u001b[0m\u001b[0;34m:\u001b[0m\u001b[0;34m\u001b[0m\u001b[0;34m\u001b[0m\u001b[0m\n\u001b[1;32m     41\u001b[0m             \u001b[0mkey_genes\u001b[0m \u001b[0;34m=\u001b[0m \u001b[0mlist\u001b[0m\u001b[0;34m(\u001b[0m\u001b[0mkne_ex\u001b[0m\u001b[0;34m)\u001b[0m\u001b[0;34m\u001b[0m\u001b[0;34m\u001b[0m\u001b[0m\n",
      "\u001b[0;32m~/Dropbox/CardioCenter/projects/2021/HCM_FC/Supl_only_up_v2/Code/miRNET.py\u001b[0m in \u001b[0;36mextraction\u001b[0;34m(self)\u001b[0m\n\u001b[1;32m    196\u001b[0m             \u001b[0mself\u001b[0m\u001b[0;34m.\u001b[0m\u001b[0mgraph_features\u001b[0m\u001b[0;34m[\u001b[0m\u001b[0;34m'n_CC'\u001b[0m\u001b[0;34m]\u001b[0m\u001b[0;34m.\u001b[0m\u001b[0mappend\u001b[0m\u001b[0;34m(\u001b[0m\u001b[0mlen\u001b[0m\u001b[0;34m(\u001b[0m\u001b[0mlist\u001b[0m\u001b[0;34m(\u001b[0m\u001b[0mnx\u001b[0m\u001b[0;34m.\u001b[0m\u001b[0mconnected_component_subgraphs\u001b[0m\u001b[0;34m(\u001b[0m\u001b[0mself\u001b[0m\u001b[0;34m.\u001b[0m\u001b[0mnet\u001b[0m\u001b[0;34m)\u001b[0m\u001b[0;34m)\u001b[0m\u001b[0;34m)\u001b[0m\u001b[0;34m)\u001b[0m\u001b[0;34m\u001b[0m\u001b[0;34m\u001b[0m\u001b[0m\n\u001b[1;32m    197\u001b[0m             \u001b[0mself\u001b[0m\u001b[0;34m.\u001b[0m\u001b[0mgraph_features\u001b[0m\u001b[0;34m[\u001b[0m\u001b[0;34m'transitivity'\u001b[0m\u001b[0;34m]\u001b[0m\u001b[0;34m.\u001b[0m\u001b[0mappend\u001b[0m\u001b[0;34m(\u001b[0m\u001b[0mnx\u001b[0m\u001b[0;34m.\u001b[0m\u001b[0mtransitivity\u001b[0m\u001b[0;34m(\u001b[0m\u001b[0mLCC_curent\u001b[0m\u001b[0;34m)\u001b[0m\u001b[0;34m)\u001b[0m\u001b[0;34m\u001b[0m\u001b[0;34m\u001b[0m\u001b[0m\n\u001b[0;32m--> 198\u001b[0;31m             \u001b[0mself\u001b[0m\u001b[0;34m.\u001b[0m\u001b[0mgraph_features\u001b[0m\u001b[0;34m[\u001b[0m\u001b[0;34m'sh_path'\u001b[0m\u001b[0;34m]\u001b[0m\u001b[0;34m.\u001b[0m\u001b[0mappend\u001b[0m\u001b[0;34m(\u001b[0m\u001b[0mnx\u001b[0m\u001b[0;34m.\u001b[0m\u001b[0maverage_shortest_path_length\u001b[0m\u001b[0;34m(\u001b[0m\u001b[0mLCC_curent\u001b[0m\u001b[0;34m)\u001b[0m \u001b[0;34m/\u001b[0m \u001b[0mlen\u001b[0m\u001b[0;34m(\u001b[0m\u001b[0mLCC_curent\u001b[0m\u001b[0;34m.\u001b[0m\u001b[0mnodes\u001b[0m\u001b[0;34m(\u001b[0m\u001b[0;34m)\u001b[0m\u001b[0;34m)\u001b[0m\u001b[0;34m)\u001b[0m\u001b[0;34m\u001b[0m\u001b[0;34m\u001b[0m\u001b[0m\n\u001b[0m\u001b[1;32m    199\u001b[0m \u001b[0;34m\u001b[0m\u001b[0m\n\u001b[1;32m    200\u001b[0m         \u001b[0;31m# find inflection point of function\u001b[0m\u001b[0;34m\u001b[0m\u001b[0;34m\u001b[0m\u001b[0;34m\u001b[0m\u001b[0m\n",
      "\u001b[0;32m/opt/anaconda3/lib/python3.7/site-packages/networkx/algorithms/shortest_paths/generic.py\u001b[0m in \u001b[0;36maverage_shortest_path_length\u001b[0;34m(G, weight, method)\u001b[0m\n\u001b[1;32m    405\u001b[0m             \u001b[0;32mraise\u001b[0m \u001b[0mValueError\u001b[0m\u001b[0;34m(\u001b[0m\u001b[0;34m'method not supported: {}'\u001b[0m\u001b[0;34m.\u001b[0m\u001b[0mformat\u001b[0m\u001b[0;34m(\u001b[0m\u001b[0mmethod\u001b[0m\u001b[0;34m)\u001b[0m\u001b[0;34m)\u001b[0m\u001b[0;34m\u001b[0m\u001b[0;34m\u001b[0m\u001b[0m\n\u001b[1;32m    406\u001b[0m     \u001b[0;31m# Sum the distances for each (ordered) pair of source and target node.\u001b[0m\u001b[0;34m\u001b[0m\u001b[0;34m\u001b[0m\u001b[0;34m\u001b[0m\u001b[0m\n\u001b[0;32m--> 407\u001b[0;31m     \u001b[0ms\u001b[0m \u001b[0;34m=\u001b[0m \u001b[0msum\u001b[0m\u001b[0;34m(\u001b[0m\u001b[0ml\u001b[0m \u001b[0;32mfor\u001b[0m \u001b[0mu\u001b[0m \u001b[0;32min\u001b[0m \u001b[0mG\u001b[0m \u001b[0;32mfor\u001b[0m \u001b[0ml\u001b[0m \u001b[0;32min\u001b[0m \u001b[0mpath_length\u001b[0m\u001b[0;34m(\u001b[0m\u001b[0mu\u001b[0m\u001b[0;34m)\u001b[0m\u001b[0;34m.\u001b[0m\u001b[0mvalues\u001b[0m\u001b[0;34m(\u001b[0m\u001b[0;34m)\u001b[0m\u001b[0;34m)\u001b[0m\u001b[0;34m\u001b[0m\u001b[0;34m\u001b[0m\u001b[0m\n\u001b[0m\u001b[1;32m    408\u001b[0m     \u001b[0;32mreturn\u001b[0m \u001b[0ms\u001b[0m \u001b[0;34m/\u001b[0m \u001b[0;34m(\u001b[0m\u001b[0mn\u001b[0m \u001b[0;34m*\u001b[0m \u001b[0;34m(\u001b[0m\u001b[0mn\u001b[0m \u001b[0;34m-\u001b[0m \u001b[0;36m1\u001b[0m\u001b[0;34m)\u001b[0m\u001b[0;34m)\u001b[0m\u001b[0;34m\u001b[0m\u001b[0;34m\u001b[0m\u001b[0m\n\u001b[1;32m    409\u001b[0m \u001b[0;34m\u001b[0m\u001b[0m\n",
      "\u001b[0;32m/opt/anaconda3/lib/python3.7/site-packages/networkx/algorithms/shortest_paths/generic.py\u001b[0m in \u001b[0;36m<genexpr>\u001b[0;34m(.0)\u001b[0m\n\u001b[1;32m    405\u001b[0m             \u001b[0;32mraise\u001b[0m \u001b[0mValueError\u001b[0m\u001b[0;34m(\u001b[0m\u001b[0;34m'method not supported: {}'\u001b[0m\u001b[0;34m.\u001b[0m\u001b[0mformat\u001b[0m\u001b[0;34m(\u001b[0m\u001b[0mmethod\u001b[0m\u001b[0;34m)\u001b[0m\u001b[0;34m)\u001b[0m\u001b[0;34m\u001b[0m\u001b[0;34m\u001b[0m\u001b[0m\n\u001b[1;32m    406\u001b[0m     \u001b[0;31m# Sum the distances for each (ordered) pair of source and target node.\u001b[0m\u001b[0;34m\u001b[0m\u001b[0;34m\u001b[0m\u001b[0;34m\u001b[0m\u001b[0m\n\u001b[0;32m--> 407\u001b[0;31m     \u001b[0ms\u001b[0m \u001b[0;34m=\u001b[0m \u001b[0msum\u001b[0m\u001b[0;34m(\u001b[0m\u001b[0ml\u001b[0m \u001b[0;32mfor\u001b[0m \u001b[0mu\u001b[0m \u001b[0;32min\u001b[0m \u001b[0mG\u001b[0m \u001b[0;32mfor\u001b[0m \u001b[0ml\u001b[0m \u001b[0;32min\u001b[0m \u001b[0mpath_length\u001b[0m\u001b[0;34m(\u001b[0m\u001b[0mu\u001b[0m\u001b[0;34m)\u001b[0m\u001b[0;34m.\u001b[0m\u001b[0mvalues\u001b[0m\u001b[0;34m(\u001b[0m\u001b[0;34m)\u001b[0m\u001b[0;34m)\u001b[0m\u001b[0;34m\u001b[0m\u001b[0;34m\u001b[0m\u001b[0m\n\u001b[0m\u001b[1;32m    408\u001b[0m     \u001b[0;32mreturn\u001b[0m \u001b[0ms\u001b[0m \u001b[0;34m/\u001b[0m \u001b[0;34m(\u001b[0m\u001b[0mn\u001b[0m \u001b[0;34m*\u001b[0m \u001b[0;34m(\u001b[0m\u001b[0mn\u001b[0m \u001b[0;34m-\u001b[0m \u001b[0;36m1\u001b[0m\u001b[0;34m)\u001b[0m\u001b[0;34m)\u001b[0m\u001b[0;34m\u001b[0m\u001b[0;34m\u001b[0m\u001b[0m\n\u001b[1;32m    409\u001b[0m \u001b[0;34m\u001b[0m\u001b[0m\n",
      "\u001b[0;32m/opt/anaconda3/lib/python3.7/site-packages/networkx/algorithms/shortest_paths/generic.py\u001b[0m in \u001b[0;36mpath_length\u001b[0;34m(v)\u001b[0m\n\u001b[1;32m    396\u001b[0m     \u001b[0;32mdef\u001b[0m \u001b[0mpath_length\u001b[0m\u001b[0;34m(\u001b[0m\u001b[0mv\u001b[0m\u001b[0;34m)\u001b[0m\u001b[0;34m:\u001b[0m\u001b[0;34m\u001b[0m\u001b[0;34m\u001b[0m\u001b[0m\n\u001b[1;32m    397\u001b[0m         \u001b[0;32mif\u001b[0m \u001b[0mmethod\u001b[0m \u001b[0;34m==\u001b[0m \u001b[0;34m'unweighted'\u001b[0m\u001b[0;34m:\u001b[0m\u001b[0;34m\u001b[0m\u001b[0;34m\u001b[0m\u001b[0m\n\u001b[0;32m--> 398\u001b[0;31m             \u001b[0;32mreturn\u001b[0m \u001b[0mnx\u001b[0m\u001b[0;34m.\u001b[0m\u001b[0msingle_source_shortest_path_length\u001b[0m\u001b[0;34m(\u001b[0m\u001b[0mG\u001b[0m\u001b[0;34m,\u001b[0m \u001b[0mv\u001b[0m\u001b[0;34m)\u001b[0m\u001b[0;34m\u001b[0m\u001b[0;34m\u001b[0m\u001b[0m\n\u001b[0m\u001b[1;32m    399\u001b[0m         \u001b[0;32melif\u001b[0m \u001b[0mmethod\u001b[0m \u001b[0;34m==\u001b[0m \u001b[0;34m'dijkstra'\u001b[0m\u001b[0;34m:\u001b[0m\u001b[0;34m\u001b[0m\u001b[0;34m\u001b[0m\u001b[0m\n\u001b[1;32m    400\u001b[0m             \u001b[0;32mreturn\u001b[0m \u001b[0mnx\u001b[0m\u001b[0;34m.\u001b[0m\u001b[0msingle_source_dijkstra_path_length\u001b[0m\u001b[0;34m(\u001b[0m\u001b[0mG\u001b[0m\u001b[0;34m,\u001b[0m \u001b[0mv\u001b[0m\u001b[0;34m,\u001b[0m \u001b[0mweight\u001b[0m\u001b[0;34m=\u001b[0m\u001b[0mweight\u001b[0m\u001b[0;34m)\u001b[0m\u001b[0;34m\u001b[0m\u001b[0;34m\u001b[0m\u001b[0m\n",
      "\u001b[0;32m/opt/anaconda3/lib/python3.7/site-packages/networkx/algorithms/shortest_paths/unweighted.py\u001b[0m in \u001b[0;36msingle_source_shortest_path_length\u001b[0;34m(G, source, cutoff)\u001b[0m\n\u001b[1;32m     64\u001b[0m         \u001b[0mcutoff\u001b[0m \u001b[0;34m=\u001b[0m \u001b[0mfloat\u001b[0m\u001b[0;34m(\u001b[0m\u001b[0;34m'inf'\u001b[0m\u001b[0;34m)\u001b[0m\u001b[0;34m\u001b[0m\u001b[0;34m\u001b[0m\u001b[0m\n\u001b[1;32m     65\u001b[0m     \u001b[0mnextlevel\u001b[0m \u001b[0;34m=\u001b[0m \u001b[0;34m{\u001b[0m\u001b[0msource\u001b[0m\u001b[0;34m:\u001b[0m \u001b[0;36m1\u001b[0m\u001b[0;34m}\u001b[0m\u001b[0;34m\u001b[0m\u001b[0;34m\u001b[0m\u001b[0m\n\u001b[0;32m---> 66\u001b[0;31m     \u001b[0;32mreturn\u001b[0m \u001b[0mdict\u001b[0m\u001b[0;34m(\u001b[0m\u001b[0m_single_shortest_path_length\u001b[0m\u001b[0;34m(\u001b[0m\u001b[0mG\u001b[0m\u001b[0;34m.\u001b[0m\u001b[0madj\u001b[0m\u001b[0;34m,\u001b[0m \u001b[0mnextlevel\u001b[0m\u001b[0;34m,\u001b[0m \u001b[0mcutoff\u001b[0m\u001b[0;34m)\u001b[0m\u001b[0;34m)\u001b[0m\u001b[0;34m\u001b[0m\u001b[0;34m\u001b[0m\u001b[0m\n\u001b[0m\u001b[1;32m     67\u001b[0m \u001b[0;34m\u001b[0m\u001b[0m\n\u001b[1;32m     68\u001b[0m \u001b[0;34m\u001b[0m\u001b[0m\n",
      "\u001b[0;32m/opt/anaconda3/lib/python3.7/site-packages/networkx/algorithms/shortest_paths/unweighted.py\u001b[0m in \u001b[0;36m_single_shortest_path_length\u001b[0;34m(adj, firstlevel, cutoff)\u001b[0m\n\u001b[1;32m     90\u001b[0m             \u001b[0;32mif\u001b[0m \u001b[0mv\u001b[0m \u001b[0;32mnot\u001b[0m \u001b[0;32min\u001b[0m \u001b[0mseen\u001b[0m\u001b[0;34m:\u001b[0m\u001b[0;34m\u001b[0m\u001b[0;34m\u001b[0m\u001b[0m\n\u001b[1;32m     91\u001b[0m                 \u001b[0mseen\u001b[0m\u001b[0;34m[\u001b[0m\u001b[0mv\u001b[0m\u001b[0;34m]\u001b[0m \u001b[0;34m=\u001b[0m \u001b[0mlevel\u001b[0m  \u001b[0;31m# set the level of vertex v\u001b[0m\u001b[0;34m\u001b[0m\u001b[0;34m\u001b[0m\u001b[0m\n\u001b[0;32m---> 92\u001b[0;31m                 \u001b[0mnextlevel\u001b[0m\u001b[0;34m.\u001b[0m\u001b[0mupdate\u001b[0m\u001b[0;34m(\u001b[0m\u001b[0madj\u001b[0m\u001b[0;34m[\u001b[0m\u001b[0mv\u001b[0m\u001b[0;34m]\u001b[0m\u001b[0;34m)\u001b[0m  \u001b[0;31m# add neighbors of v\u001b[0m\u001b[0;34m\u001b[0m\u001b[0;34m\u001b[0m\u001b[0m\n\u001b[0m\u001b[1;32m     93\u001b[0m                 \u001b[0;32myield\u001b[0m \u001b[0;34m(\u001b[0m\u001b[0mv\u001b[0m\u001b[0;34m,\u001b[0m \u001b[0mlevel\u001b[0m\u001b[0;34m)\u001b[0m\u001b[0;34m\u001b[0m\u001b[0;34m\u001b[0m\u001b[0m\n\u001b[1;32m     94\u001b[0m         \u001b[0mlevel\u001b[0m \u001b[0;34m+=\u001b[0m \u001b[0;36m1\u001b[0m\u001b[0;34m\u001b[0m\u001b[0;34m\u001b[0m\u001b[0m\n",
      "\u001b[0;32m/opt/anaconda3/lib/python3.7/_collections_abc.py\u001b[0m in \u001b[0;36mkeys\u001b[0;34m(self)\u001b[0m\n\u001b[1;32m    670\u001b[0m             \u001b[0;32mreturn\u001b[0m \u001b[0;32mTrue\u001b[0m\u001b[0;34m\u001b[0m\u001b[0;34m\u001b[0m\u001b[0m\n\u001b[1;32m    671\u001b[0m \u001b[0;34m\u001b[0m\u001b[0m\n\u001b[0;32m--> 672\u001b[0;31m     \u001b[0;32mdef\u001b[0m \u001b[0mkeys\u001b[0m\u001b[0;34m(\u001b[0m\u001b[0mself\u001b[0m\u001b[0;34m)\u001b[0m\u001b[0;34m:\u001b[0m\u001b[0;34m\u001b[0m\u001b[0;34m\u001b[0m\u001b[0m\n\u001b[0m\u001b[1;32m    673\u001b[0m         \u001b[0;34m\"D.keys() -> a set-like object providing a view on D's keys\"\u001b[0m\u001b[0;34m\u001b[0m\u001b[0;34m\u001b[0m\u001b[0m\n\u001b[1;32m    674\u001b[0m         \u001b[0;32mreturn\u001b[0m \u001b[0mKeysView\u001b[0m\u001b[0;34m(\u001b[0m\u001b[0mself\u001b[0m\u001b[0;34m)\u001b[0m\u001b[0;34m\u001b[0m\u001b[0;34m\u001b[0m\u001b[0m\n",
      "\u001b[0;31mKeyboardInterrupt\u001b[0m: "
     ]
    }
   ],
   "source": [
    "Targets = miRNET.Targets(path_to_miRTarBase='./baseData/hsa_miRTarBase.csv')\n",
    "tis_gene_set = miRNET.tissue_selector(ans=0, tissue_id=23)\n",
    "\n",
    "result = dict()\n",
    "min_x = 0.1\n",
    "max_x = 0.9\n",
    "step = int(max_x/min_x)\n",
    "x = np.linspace(max_x, min_x, step)\n",
    "print('x:', x)\n",
    "\n",
    "seed = 1\n",
    "for miR, atr in dict_for_mc.items():\n",
    "\n",
    "    target_list = list()\n",
    "    true_keys = atr['key_genes']\n",
    "    \n",
    "    miR_targets = Targets.get_targets(miR, False)\n",
    "    \n",
    "    for i in list(x):\n",
    "        np.random.seed(seed)\n",
    "        seed += 1\n",
    "        \n",
    "        saved_gene = true_keys\n",
    "        \n",
    "        target_not_key = miR_targets.difference(saved_gene)\n",
    "        drop_target = np.random.choice(list(target_not_key), size=round(len(target_not_key)*float(i)), replace=False)\n",
    "        reside_target = target_not_key.difference(drop_target)\n",
    "        reside_target.update(saved_gene)\n",
    "\n",
    "        MirNet = miRNET.MainNet()  # Load String db and create gene-gene interaction network\n",
    "        MirNet.get_LCC()  # get the largest connected component from the network\n",
    "        check = 0\n",
    "        check += MirNet.select_nodes(reside_target)  # select the part of LCC containing only the miRNA target genes\n",
    "        check += MirNet.select_nodes(tis_gene_set)  # select the part of LCC containing only the tissue target genes\n",
    "        if check == 1:\n",
    "            print(1)\n",
    "            continue\n",
    "        kne = miRNET.KeyNodesExtractor(MirNet)\n",
    "        kne_ex = kne.extraction()\n",
    "        if kne_ex != 1:\n",
    "            key_genes = list(kne_ex)\n",
    "        else:\n",
    "            print(1)\n",
    "            continue\n",
    "        target_list.append(set(key_genes))\n",
    "        \n",
    "    n_keyes_list = list()\n",
    "    fract_list = list()\n",
    "    intersec_list = list()\n",
    "    \n",
    "    for t_set in target_list:\n",
    "\n",
    "        if len(t_set) < len(true_keys):\n",
    "            denom = len(t_set)\n",
    "        else:\n",
    "            denom = len(true_keys)\n",
    "            \n",
    "        intersec = t_set.intersection(true_keys)\n",
    "        \n",
    "        n_keyes_list.append(len(t_set))\n",
    "        fract_list.append(len(t_set)/len(true_keys))\n",
    "        intersec_list.append(len(intersec)/denom)\n",
    "        \n",
    "    result[miR]={\n",
    "        'n_keys': np.array(n_keyes_list),\n",
    "        'fract': np.array(fract_list),\n",
    "        'intersec': np.array(intersec_list)\n",
    "    }"
   ]
  },
  {
   "cell_type": "code",
   "execution_count": 4,
   "metadata": {},
   "outputs": [],
   "source": [
    "def get_mean_estm(dct, atr):\n",
    "    data = pd.DataFrame(columns=range(0,len(x)))\n",
    "    for miR, ar in dct.items():\n",
    "        if len(ar[atr]) == len(x):\n",
    "            data = data.append(pd.DataFrame(ar[atr].reshape(1,len(x))))\n",
    "        else:\n",
    "            continue\n",
    "    return data"
   ]
  },
  {
   "cell_type": "code",
   "execution_count": null,
   "metadata": {},
   "outputs": [],
   "source": []
  },
  {
   "cell_type": "code",
   "execution_count": 5,
   "metadata": {},
   "outputs": [],
   "source": [
    "dt = get_mean_estm(result, 'fract')\n",
    "new_dt = pd.DataFrame(columns=['x', 'y'])\n",
    "for i in range(dt.shape[1]):\n",
    "    add_df = pd.DataFrame(list(zip([i for _ in range(dt.shape[0])], dt.iloc[:,i])), columns=['x','y'])\n",
    "    new_dt = new_dt.append(add_df)"
   ]
  },
  {
   "cell_type": "code",
   "execution_count": 50,
   "metadata": {},
   "outputs": [
    {
     "data": {
      "image/png": "[encoded data removed]",
      "text/plain": [
       "<Figure size 720x72 with 1 Axes>"
      ]
     },
     "metadata": {
      "needs_background": "light"
     },
     "output_type": "display_data"
    }
   ],
   "source": [
    "custom_palette = sns.color_palette(\"Reds\", 10)\n",
    "sns.palplot(custom_palette)\n",
    "sns.set_palette('pastel')"
   ]
  },
  {
   "cell_type": "code",
   "execution_count": 49,
   "metadata": {},
   "outputs": [],
   "source": [
    "sns.barplot?"
   ]
  },
  {
   "cell_type": "code",
   "execution_count": 56,
   "metadata": {},
   "outputs": [
    {
     "data": {
      "text/plain": [
       "[<matplotlib.lines.Line2D at 0x7fb8547c4110>]"
      ]
     },
     "execution_count": 56,
     "metadata": {},
     "output_type": "execute_result"
    },
    {
     "data": {
      "image/png": "[encoded data removed]",
      "text/plain": [
       "<Figure size 432x288 with 1 Axes>"
      ]
     },
     "metadata": {
      "needs_background": "light"
     },
     "output_type": "display_data"
    }
   ],
   "source": [
    "sns.barplot(x=\"x\", \n",
    "            y=\"y\", \n",
    "            data=new_dt, \n",
    "            estimator=np.median, \n",
    "            ci=95, palette=custom_palette, \n",
    "            errwidth=2)\n",
    "plt.plot(get_mean_estm(result, 'intersec').mean(axis=0), 'blue', linewidth=3)"
   ]
  },
  {
   "cell_type": "code",
   "execution_count": 104,
   "metadata": {},
   "outputs": [
    {
     "data": {
      "image/png": "[encoded data removed]",
      "text/plain": [
       "<Figure size 432x288 with 1 Axes>"
      ]
     },
     "metadata": {
      "needs_background": "light"
     },
     "output_type": "display_data"
    },
    {
     "data": {
      "image/png": "[encoded data removed]",
      "text/plain": [
       "<Figure size 432x288 with 2 Axes>"
      ]
     },
     "metadata": {
      "needs_background": "light"
     },
     "output_type": "display_data"
    }
   ],
   "source": [
    "sns.pointplot(x=\"x\", \n",
    "            y=\"y\", \n",
    "            data=new_dt, \n",
    "            estimator=np.median, palette=custom_palette, join=False)\n",
    "#sns.stripplot(y=\"y\", x=\"x\", data=new_dt)\n",
    "\n",
    "fig, ax = plt.subplots()\n",
    "ax = sns.pointplot(x=\"x\", \n",
    "            y=\"y\", \n",
    "            data=new_dt, \n",
    "            estimator=np.median, palette=custom_palette, join=False)\n",
    "ax.set(xlabel='Portion of excluding nods', ylabel='Ratio of the number of test key genes \\nto the number of true key genes')\n",
    "ax2 = plt.twinx()\n",
    "ax2.set(ylabel='Part of true key genes \\nin the set of test key genes')\n",
    "ax2.set_ylim(0.6,1)\n",
    "ax.set_xticklabels(list(np.linspace(0.9, 0.1, 9).round(1)))\n",
    "plt.plot(get_mean_estm(result, 'intersec').mean(axis=0), 'blue', linewidth=3)\n",
    "plt.show()\n",
    "fig.savefig('./Node_test.png', dpi=300)"
   ]
  },
  {
   "cell_type": "code",
   "execution_count": 12,
   "metadata": {},
   "outputs": [],
   "source": [
    "import numpy as np"
   ]
  },
  {
   "cell_type": "code",
   "execution_count": 23,
   "metadata": {},
   "outputs": [],
   "source": [
    "dict_for_mc = dict()\n",
    "for miR in miR_key_dict.keys():\n",
    "    if 1351 > miR_key_dict[miR]['targets'] > 51:\n",
    "        if miR_key_dict[miR]['LCC'] > 5:\n",
    "            if len(miR_key_dict[miR]['key_genes']) > 5:\n",
    "                dict_for_mc[miR] = miR_key_dict[miR]"
   ]
  },
  {
   "cell_type": "code",
   "execution_count": 24,
   "metadata": {},
   "outputs": [],
   "source": [
    "space = list()\n",
    "\n",
    "for miR, atr in dict_for_mc.items():\n",
    "    space += atr['key_genes'].copy()"
   ]
  },
  {
   "cell_type": "code",
   "execution_count": 25,
   "metadata": {},
   "outputs": [],
   "source": [
    "matrix = list()\n",
    "for miR, atr in dict_for_mc.items():\n",
    "    matrix.append([1 if i in atr['key_genes'] else 0 for i in space])"
   ]
  },
  {
   "cell_type": "code",
   "execution_count": 27,
   "metadata": {},
   "outputs": [
    {
     "data": {
      "text/plain": [
       "196"
      ]
     },
     "execution_count": 27,
     "metadata": {},
     "output_type": "execute_result"
    }
   ],
   "source": [
    "np.linalg.matrix_rank(np.matrix(matrix))"
   ]
  },
  {
   "cell_type": "code",
   "execution_count": 34,
   "metadata": {},
   "outputs": [
    {
     "data": {
      "text/plain": [
       "38"
      ]
     },
     "execution_count": 34,
     "metadata": {},
     "output_type": "execute_result"
    }
   ],
   "source": [
    "np.matrix(matrix).shape[0] - 196"
   ]
  },
  {
   "cell_type": "code",
   "execution_count": 80,
   "metadata": {},
   "outputs": [],
   "source": [
    "unq, count = np.unique(matrix, axis=0, return_counts=True)"
   ]
  },
  {
   "cell_type": "code",
   "execution_count": 124,
   "metadata": {},
   "outputs": [],
   "source": [
    "unq, count = np.unique(matrix, axis=0, return_counts=True)\n",
    "repeated_groups = unq[count > 1]\n",
    "\n",
    "dupl_miRs = list()\n",
    "for repeated_group in repeated_groups:\n",
    "    repeated_idx = np.argwhere(np.all(matrix == repeated_group, axis=1))\n",
    "    dupl_miRs.append(list(repeated_idx.ravel()))"
   ]
  },
  {
   "cell_type": "code",
   "execution_count": 127,
   "metadata": {},
   "outputs": [
    {
     "name": "stdout",
     "output_type": "stream",
     "text": [
      "next i:  [163, 164]\n",
      "hsa-miR-6808-5p\n",
      "hsa-miR-6893-5p\n",
      "next i:  [139, 168, 169]\n",
      "hsa-miR-3929\n",
      "hsa-miR-4478\n",
      "hsa-miR-4419b\n",
      "next i:  [135, 149, 150]\n",
      "hsa-miR-616-5p\n",
      "hsa-miR-373-5p\n",
      "hsa-miR-371b-5p\n",
      "next i:  [105, 156]\n",
      "hsa-miR-30c-1-3p\n",
      "hsa-miR-6788-5p\n",
      "next i:  [47, 48, 73, 108, 141, 152]\n",
      "hsa-miR-520b\n",
      "hsa-miR-520a-3p\n",
      "hsa-miR-520c-3p\n",
      "hsa-miR-520e\n",
      "hsa-miR-520d-3p\n",
      "hsa-miR-302e\n",
      "next i:  [124, 218, 219, 220]\n",
      "hsa-miR-1293\n",
      "hsa-miR-363-5p\n",
      "hsa-miR-4483\n",
      "hsa-miR-6745\n",
      "next i:  [184, 185]\n",
      "hsa-miR-6756-5p\n",
      "hsa-miR-6766-5p\n",
      "next i:  [155, 157]\n",
      "hsa-miR-6731-5p\n",
      "hsa-miR-8085\n",
      "next i:  [99, 100, 227, 228, 229]\n",
      "hsa-miR-1285-3p\n",
      "hsa-miR-612\n",
      "hsa-miR-3187-5p\n",
      "hsa-miR-5189-5p\n",
      "hsa-miR-6860\n",
      "next i:  [177, 178]\n",
      "hsa-miR-4458\n",
      "hsa-miR-4500\n",
      "next i:  [117, 191, 192, 193, 195, 196]\n",
      "hsa-miR-30b-3p\n",
      "hsa-miR-3689a-3p\n",
      "hsa-miR-3689b-3p\n",
      "hsa-miR-3689c\n",
      "hsa-miR-6780a-5p\n",
      "hsa-miR-1273h-5p\n",
      "next i:  [204, 209, 210]\n",
      "hsa-miR-4728-5p\n",
      "hsa-miR-6785-5p\n",
      "hsa-miR-6883-5p\n",
      "next i:  [202, 203, 205, 206, 207, 208]\n",
      "hsa-miR-4419a\n",
      "hsa-miR-4510\n",
      "hsa-miR-6127\n",
      "hsa-miR-6129\n",
      "hsa-miR-6130\n",
      "hsa-miR-6133\n",
      "next i:  [114, 167]\n",
      "hsa-miR-1297\n",
      "hsa-miR-4465\n",
      "next i:  [225, 226]\n",
      "hsa-miR-6512-3p\n",
      "hsa-miR-6720-5p\n",
      "next i:  [92, 116, 158, 159]\n",
      "hsa-miR-301b-3p\n",
      "hsa-miR-454-3p\n",
      "hsa-miR-4295\n",
      "hsa-miR-3666\n"
     ]
    }
   ],
   "source": [
    "for i in dupl_miRs:\n",
    "    print('next i: ', i, end='\\n')\n",
    "    for j in i:\n",
    "        for v in range(len(dict_for_mc)):\n",
    "            if v == j:\n",
    "                print(list(dict_for_mc.keys())[v])"
   ]
  },
  {
   "cell_type": "code",
   "execution_count": 125,
   "metadata": {},
   "outputs": [
    {
     "data": {
      "text/plain": [
       "[[163, 164],\n",
       " [139, 168, 169],\n",
       " [135, 149, 150],\n",
       " [105, 156],\n",
       " [47, 48, 73, 108, 141, 152],\n",
       " [124, 218, 219, 220],\n",
       " [184, 185],\n",
       " [155, 157],\n",
       " [99, 100, 227, 228, 229],\n",
       " [177, 178],\n",
       " [117, 191, 192, 193, 195, 196],\n",
       " [204, 209, 210],\n",
       " [202, 203, 205, 206, 207, 208],\n",
       " [114, 167],\n",
       " [225, 226],\n",
       " [92, 116, 158, 159]]"
      ]
     },
     "execution_count": 125,
     "metadata": {},
     "output_type": "execute_result"
    }
   ],
   "source": [
    "dupl_miRs"
   ]
  },
  {
   "cell_type": "code",
   "execution_count": 103,
   "metadata": {},
   "outputs": [],
   "source": [
    "dupl_miRs_name = list()\n",
    "for i in range(len(dict_for_mc)):\n",
    "    if i in dupl_miRs:\n",
    "        dupl_miRs_name.append(list(dict_for_mc.keys())[i])"
   ]
  },
  {
   "cell_type": "code",
   "execution_count": 118,
   "metadata": {},
   "outputs": [
    {
     "data": {
      "text/plain": [
       "0.23076923076923078"
      ]
     },
     "execution_count": 118,
     "metadata": {},
     "output_type": "execute_result"
    }
   ],
   "source": [
    "len(dupl_miRs_name)/len(dict_for_mc)"
   ]
  },
  {
   "cell_type": "code",
   "execution_count": 121,
   "metadata": {},
   "outputs": [
    {
     "data": {
      "text/plain": [
       "['hsa-miR-1273h-5p',\n",
       " 'hsa-miR-1285-3p',\n",
       " 'hsa-miR-1293',\n",
       " 'hsa-miR-1297',\n",
       " 'hsa-miR-301b-3p',\n",
       " 'hsa-miR-302e',\n",
       " 'hsa-miR-30b-3p',\n",
       " 'hsa-miR-30c-1-3p',\n",
       " 'hsa-miR-3187-5p',\n",
       " 'hsa-miR-363-5p',\n",
       " 'hsa-miR-3666',\n",
       " 'hsa-miR-3689a-3p',\n",
       " 'hsa-miR-3689b-3p',\n",
       " 'hsa-miR-3689c',\n",
       " 'hsa-miR-371b-5p',\n",
       " 'hsa-miR-373-5p',\n",
       " 'hsa-miR-3929',\n",
       " 'hsa-miR-4295',\n",
       " 'hsa-miR-4419a',\n",
       " 'hsa-miR-4419b',\n",
       " 'hsa-miR-4458',\n",
       " 'hsa-miR-4465',\n",
       " 'hsa-miR-4478',\n",
       " 'hsa-miR-4483',\n",
       " 'hsa-miR-4500',\n",
       " 'hsa-miR-4510',\n",
       " 'hsa-miR-454-3p',\n",
       " 'hsa-miR-4728-5p',\n",
       " 'hsa-miR-5189-5p',\n",
       " 'hsa-miR-520a-3p',\n",
       " 'hsa-miR-520b',\n",
       " 'hsa-miR-520c-3p',\n",
       " 'hsa-miR-520d-3p',\n",
       " 'hsa-miR-520e',\n",
       " 'hsa-miR-612',\n",
       " 'hsa-miR-6127',\n",
       " 'hsa-miR-6129',\n",
       " 'hsa-miR-6130',\n",
       " 'hsa-miR-6133',\n",
       " 'hsa-miR-616-5p',\n",
       " 'hsa-miR-6512-3p',\n",
       " 'hsa-miR-6720-5p',\n",
       " 'hsa-miR-6731-5p',\n",
       " 'hsa-miR-6745',\n",
       " 'hsa-miR-6756-5p',\n",
       " 'hsa-miR-6766-5p',\n",
       " 'hsa-miR-6780a-5p',\n",
       " 'hsa-miR-6785-5p',\n",
       " 'hsa-miR-6788-5p',\n",
       " 'hsa-miR-6808-5p',\n",
       " 'hsa-miR-6860',\n",
       " 'hsa-miR-6883-5p',\n",
       " 'hsa-miR-6893-5p',\n",
       " 'hsa-miR-8085']"
      ]
     },
     "execution_count": 121,
     "metadata": {},
     "output_type": "execute_result"
    }
   ],
   "source": [
    "sorted(dupl_miRs_name)"
   ]
  },
  {
   "cell_type": "code",
   "execution_count": 107,
   "metadata": {},
   "outputs": [],
   "source": [
    "target_list = list()\n",
    "lcc_list = list()\n",
    "key_genes = list()\n",
    "for miR in dupl_miRs_name:\n",
    "    target_list.append(dict_for_mc[miR]['targets'])\n",
    "    lcc_list.append(dict_for_mc[miR]['LCC'])\n",
    "    key_genes += dict_for_mc[miR]['key_genes']"
   ]
  },
  {
   "cell_type": "code",
   "execution_count": 109,
   "metadata": {},
   "outputs": [
    {
     "data": {
      "text/plain": [
       "(array([12., 17.,  2.,  6.,  2.,  4.,  8.,  0.,  0.,  3.]),\n",
       " array([ 7. , 12.3, 17.6, 22.9, 28.2, 33.5, 38.8, 44.1, 49.4, 54.7, 60. ]),\n",
       " <a list of 10 Patch objects>)"
      ]
     },
     "execution_count": 109,
     "metadata": {},
     "output_type": "execute_result"
    },
    {
     "data": {
      "image/png": "[encoded data removed]",
      "text/plain": [
       "<Figure size 432x288 with 1 Axes>"
      ]
     },
     "metadata": {
      "needs_background": "light"
     },
     "output_type": "display_data"
    }
   ],
   "source": [
    "plt.hist(lcc_list)"
   ]
  },
  {
   "cell_type": "code",
   "execution_count": 114,
   "metadata": {},
   "outputs": [],
   "source": [
    "import collections\n",
    "rep_key_genes = collections.Counter(key_genes)\n",
    "rkg_sort = dict(sorted(rep_key_genes.items(), key=lambda item: item[1], reverse=True))"
   ]
  },
  {
   "cell_type": "code",
   "execution_count": 115,
   "metadata": {},
   "outputs": [
    {
     "data": {
      "text/plain": [
       "{'SNRPD1': 13,\n",
       " 'SNRPD3': 13,\n",
       " 'SUMO1': 13,\n",
       " 'EXOSC2': 11,\n",
       " 'CPSF2': 11,\n",
       " 'EIF4A3': 11,\n",
       " 'HIST1H2BD': 11,\n",
       " 'CUL3': 10,\n",
       " 'NUP43': 9,\n",
       " 'RNF111': 9,\n",
       " 'SF3B3': 8,\n",
       " 'SRSF7': 8,\n",
       " 'SMC1A': 8,\n",
       " 'RNF19B': 6,\n",
       " 'UBOX5': 6,\n",
       " 'RBBP6': 6,\n",
       " 'ASB16': 6,\n",
       " 'KLHL21': 6,\n",
       " 'UBC': 6,\n",
       " 'HSPA8': 6,\n",
       " 'POLR2D': 6,\n",
       " 'POLR2E': 6,\n",
       " 'HIST1H2BN': 6,\n",
       " 'RPL18A': 6,\n",
       " 'CSNK1D': 6,\n",
       " 'WDR75': 6,\n",
       " 'RAB1B': 6,\n",
       " 'HIST2H2BE': 6,\n",
       " 'HIST2H3A': 6,\n",
       " 'HIST1H2BF': 6,\n",
       " 'HIST1H2AD': 6,\n",
       " 'HIST2H2AC': 6,\n",
       " 'HIST3H3': 6,\n",
       " 'SLC2A4': 6,\n",
       " 'NCOR2': 6,\n",
       " 'TRAF7': 6,\n",
       " 'UBA1': 6,\n",
       " 'YWHAZ': 6,\n",
       " 'UBR4': 6,\n",
       " 'FUS': 5,\n",
       " 'TNPO1': 5,\n",
       " 'RPL23': 5,\n",
       " 'RPL12': 5,\n",
       " 'RPL14': 5,\n",
       " 'RPS15A': 5,\n",
       " 'SRSF3': 5,\n",
       " 'EIF3H': 5,\n",
       " 'ATM': 5,\n",
       " 'RFC2': 5,\n",
       " 'UBB': 4,\n",
       " 'RPS27A': 4,\n",
       " 'RBBP4': 4,\n",
       " 'HIST1H2AE': 4,\n",
       " 'RPL3L': 3,\n",
       " 'WDR12': 3,\n",
       " 'EIF4E': 3,\n",
       " 'UTP6': 3,\n",
       " 'RPF2': 3,\n",
       " 'EIF2S3': 3,\n",
       " 'MRE11': 3,\n",
       " 'DNA2': 3,\n",
       " 'HUS1': 3,\n",
       " 'BRIP1': 3,\n",
       " 'SNU13': 3,\n",
       " 'TGS1': 3,\n",
       " 'SIN3A': 3,\n",
       " 'PCBP1': 2,\n",
       " 'CSTF1': 2,\n",
       " 'HNRNPU': 2,\n",
       " 'BRCA1': 2,\n",
       " 'CDK9': 2,\n",
       " 'EP300': 2,\n",
       " 'PHAX': 2,\n",
       " 'TAF13': 2,\n",
       " 'GTF2A1': 2,\n",
       " 'YY1': 2,\n",
       " 'POLR2F': 2,\n",
       " 'PTBP1': 2,\n",
       " 'CASP8': 2,\n",
       " 'NUP85': 2,\n",
       " 'HIST1H2BK': 2,\n",
       " 'CXCL8': 2,\n",
       " 'CTPS1': 2,\n",
       " 'NUP62': 2,\n",
       " 'DDX39B': 2,\n",
       " 'CBX6': 2,\n",
       " 'RELA': 2,\n",
       " 'FZR1': 2,\n",
       " 'POLA2': 2,\n",
       " 'ORC1': 2}"
      ]
     },
     "execution_count": 115,
     "metadata": {},
     "output_type": "execute_result"
    }
   ],
   "source": [
    "rkg_sort"
   ]
  },
  {
   "cell_type": "code",
   "execution_count": null,
   "metadata": {},
   "outputs": [],
   "source": []
  }
 ],
 "metadata": {
  "kernelspec": {
   "display_name": "Python 3",
   "language": "python",
   "name": "python3"
  },
  "language_info": {
   "codemirror_mode": {
    "name": "ipython",
    "version": 3
   },
   "file_extension": ".py",
   "mimetype": "text/x-python",
   "name": "python",
   "nbconvert_exporter": "python",
   "pygments_lexer": "ipython3",
   "version": "3.7.6"
  }
 },
 "nbformat": 4,
 "nbformat_minor": 4
}
