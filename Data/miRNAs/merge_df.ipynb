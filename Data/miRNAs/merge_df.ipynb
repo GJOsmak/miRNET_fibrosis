{
 "cells": [
  {
   "cell_type": "code",
   "execution_count": 2,
   "metadata": {},
   "outputs": [],
   "source": [
    "import os\n",
    "import pandas as pd"
   ]
  },
  {
   "cell_type": "code",
   "execution_count": 24,
   "metadata": {},
   "outputs": [
    {
     "name": "stdout",
     "output_type": "stream",
     "text": [
      "hsa-miR-30e-5p.csv\n",
      "hsa-miR-26a-1-3p.csv\n",
      "hsa-miR-125b-1-3p.csv\n",
      "hsa-miR-133a-3p.csv\n",
      "hsa-miR-30a-3p.csv\n",
      "hsa-miR-30c-1-3p.csv\n",
      "hsa-miR-133b.csv\n",
      "hsa-miR-155-3p.csv\n",
      "hsa-miR-19b-3p.csv\n",
      "hsa-miR-891a-3р.csv\n",
      "hsa-miR-30c-5p.csv\n",
      "hsa-miR-21-5р.csv\n",
      "hsa-miR-30e-3p.csv\n",
      "hsa-miR-30a-5p.csv\n",
      "hsa-let-7i-5p.csv\n",
      "hsa-miR-155-5p.csv\n",
      "hsa-miR-125b-5p.csv\n",
      "hsa-miR-133a-5p.csv\n",
      "hsa-mir-122-5р.csv\n",
      "hsa-miR-19b-1-5p.csv\n",
      "hsa-miR-30b-3p.csv\n",
      "hsa-miR-99b-3p.csv\n",
      "hsa-miR-145-3р.csv\n",
      "hsa-miR-101-3p.csv\n",
      "hsa-miR-30b-5p.csv\n",
      "hsa-miR-26a-5p.csv\n"
     ]
    }
   ],
   "source": [
    "data = pd.DataFrame()\n",
    "for file in os.listdir():\n",
    "    if file[0:3] == 'hsa':\n",
    "        dt = pd.read_csv('./'+file)[['miRNA', 'Target']]\n",
    "        data = pd.concat([data, dt]) \n",
    "        print(file)"
   ]
  },
  {
   "cell_type": "code",
   "execution_count": 29,
   "metadata": {},
   "outputs": [],
   "source": [
    "mask = []\n",
    "for i in data['miRNA']:\n",
    "    if i[0:3] != 'hsa':\n",
    "        mask.append(False)\n",
    "    else:\n",
    "        mask.append(True)\n",
    "\n",
    "data = data.iloc[mask]"
   ]
  },
  {
   "cell_type": "code",
   "execution_count": 25,
   "metadata": {},
   "outputs": [],
   "source": []
  },
  {
   "cell_type": "code",
   "execution_count": 30,
   "metadata": {},
   "outputs": [],
   "source": [
    "data.to_csv('../../Code/baseData/hsa_miRTarBase.csv', ';', index=False)"
   ]
  },
  {
   "cell_type": "code",
   "execution_count": null,
   "metadata": {},
   "outputs": [],
   "source": []
  }
 ],
 "metadata": {
  "kernelspec": {
   "display_name": "Python 3",
   "language": "python",
   "name": "python3"
  },
  "language_info": {
   "codemirror_mode": {
    "name": "ipython",
    "version": 3
   },
   "file_extension": ".py",
   "mimetype": "text/x-python",
   "name": "python",
   "nbconvert_exporter": "python",
   "pygments_lexer": "ipython3",
   "version": "3.7.6"
  }
 },
 "nbformat": 4,
 "nbformat_minor": 4
}
